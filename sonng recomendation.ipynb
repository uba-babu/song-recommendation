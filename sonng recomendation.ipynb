{
 "cells": [
  {
   "cell_type": "code",
   "execution_count": 1,
   "id": "8b71ce55",
   "metadata": {},
   "outputs": [],
   "source": [
    "import pandas as pd \n",
    "import numpy as np"
   ]
  },
  {
   "cell_type": "code",
   "execution_count": 2,
   "id": "75c751fc",
   "metadata": {},
   "outputs": [],
   "source": [
    "df = pd.read_csv(r\"C:\\Users\\U.B.A Yadav\\OneDrive\\Desktop\\songdata.csv\")"
   ]
  },
  {
   "cell_type": "code",
   "execution_count": 3,
   "id": "d1a8c230",
   "metadata": {},
   "outputs": [
    {
     "data": {
      "text/html": [
       "<div>\n",
       "<style scoped>\n",
       "    .dataframe tbody tr th:only-of-type {\n",
       "        vertical-align: middle;\n",
       "    }\n",
       "\n",
       "    .dataframe tbody tr th {\n",
       "        vertical-align: top;\n",
       "    }\n",
       "\n",
       "    .dataframe thead th {\n",
       "        text-align: right;\n",
       "    }\n",
       "</style>\n",
       "<table border=\"1\" class=\"dataframe\">\n",
       "  <thead>\n",
       "    <tr style=\"text-align: right;\">\n",
       "      <th></th>\n",
       "      <th>artist</th>\n",
       "      <th>song</th>\n",
       "      <th>link</th>\n",
       "      <th>text</th>\n",
       "    </tr>\n",
       "  </thead>\n",
       "  <tbody>\n",
       "    <tr>\n",
       "      <th>0</th>\n",
       "      <td>ABBA</td>\n",
       "      <td>Ahe's My Kind Of Girl</td>\n",
       "      <td>/a/abba/ahes+my+kind+of+girl_20598417.html</td>\n",
       "      <td>Look at her face, it's a wonderful face  \\nAnd...</td>\n",
       "    </tr>\n",
       "    <tr>\n",
       "      <th>1</th>\n",
       "      <td>ABBA</td>\n",
       "      <td>Andante, Andante</td>\n",
       "      <td>/a/abba/andante+andante_20002708.html</td>\n",
       "      <td>Take it easy with me, please  \\nTouch me gentl...</td>\n",
       "    </tr>\n",
       "    <tr>\n",
       "      <th>2</th>\n",
       "      <td>ABBA</td>\n",
       "      <td>As Good As New</td>\n",
       "      <td>/a/abba/as+good+as+new_20003033.html</td>\n",
       "      <td>I'll never know why I had to go  \\nWhy I had t...</td>\n",
       "    </tr>\n",
       "    <tr>\n",
       "      <th>3</th>\n",
       "      <td>ABBA</td>\n",
       "      <td>Bang</td>\n",
       "      <td>/a/abba/bang_20598415.html</td>\n",
       "      <td>Making somebody happy is a question of give an...</td>\n",
       "    </tr>\n",
       "    <tr>\n",
       "      <th>4</th>\n",
       "      <td>ABBA</td>\n",
       "      <td>Bang-A-Boomerang</td>\n",
       "      <td>/a/abba/bang+a+boomerang_20002668.html</td>\n",
       "      <td>Making somebody happy is a question of give an...</td>\n",
       "    </tr>\n",
       "  </tbody>\n",
       "</table>\n",
       "</div>"
      ],
      "text/plain": [
       "  artist                   song                                        link  \\\n",
       "0   ABBA  Ahe's My Kind Of Girl  /a/abba/ahes+my+kind+of+girl_20598417.html   \n",
       "1   ABBA       Andante, Andante       /a/abba/andante+andante_20002708.html   \n",
       "2   ABBA         As Good As New        /a/abba/as+good+as+new_20003033.html   \n",
       "3   ABBA                   Bang                  /a/abba/bang_20598415.html   \n",
       "4   ABBA       Bang-A-Boomerang      /a/abba/bang+a+boomerang_20002668.html   \n",
       "\n",
       "                                                text  \n",
       "0  Look at her face, it's a wonderful face  \\nAnd...  \n",
       "1  Take it easy with me, please  \\nTouch me gentl...  \n",
       "2  I'll never know why I had to go  \\nWhy I had t...  \n",
       "3  Making somebody happy is a question of give an...  \n",
       "4  Making somebody happy is a question of give an...  "
      ]
     },
     "execution_count": 3,
     "metadata": {},
     "output_type": "execute_result"
    }
   ],
   "source": [
    "df.head()"
   ]
  },
  {
   "cell_type": "code",
   "execution_count": 4,
   "id": "b7105e7c",
   "metadata": {},
   "outputs": [
    {
     "data": {
      "text/plain": [
       "(57650, 4)"
      ]
     },
     "execution_count": 4,
     "metadata": {},
     "output_type": "execute_result"
    }
   ],
   "source": [
    "df.shape"
   ]
  },
  {
   "cell_type": "code",
   "execution_count": 5,
   "id": "43e63213",
   "metadata": {},
   "outputs": [],
   "source": [
    "df = df.sample(n = 5000).drop('link' , axis = 1).reset_index(drop = True)"
   ]
  },
  {
   "cell_type": "code",
   "execution_count": 6,
   "id": "17ec54e1",
   "metadata": {},
   "outputs": [
    {
     "data": {
      "text/plain": [
       "(5000, 3)"
      ]
     },
     "execution_count": 6,
     "metadata": {},
     "output_type": "execute_result"
    }
   ],
   "source": [
    "df.shape"
   ]
  },
  {
   "cell_type": "code",
   "execution_count": 7,
   "id": "fe84f836",
   "metadata": {},
   "outputs": [
    {
     "data": {
      "text/html": [
       "<div>\n",
       "<style scoped>\n",
       "    .dataframe tbody tr th:only-of-type {\n",
       "        vertical-align: middle;\n",
       "    }\n",
       "\n",
       "    .dataframe tbody tr th {\n",
       "        vertical-align: top;\n",
       "    }\n",
       "\n",
       "    .dataframe thead th {\n",
       "        text-align: right;\n",
       "    }\n",
       "</style>\n",
       "<table border=\"1\" class=\"dataframe\">\n",
       "  <thead>\n",
       "    <tr style=\"text-align: right;\">\n",
       "      <th></th>\n",
       "      <th>artist</th>\n",
       "      <th>song</th>\n",
       "      <th>text</th>\n",
       "    </tr>\n",
       "  </thead>\n",
       "  <tbody>\n",
       "    <tr>\n",
       "      <th>0</th>\n",
       "      <td>Utopia</td>\n",
       "      <td>Too Much Water</td>\n",
       "      <td>Too much, it's too much, too much  \\nGot too m...</td>\n",
       "    </tr>\n",
       "    <tr>\n",
       "      <th>1</th>\n",
       "      <td>John Waite</td>\n",
       "      <td>White Lightening</td>\n",
       "      <td>When I was young  \\nThey took me to the dentis...</td>\n",
       "    </tr>\n",
       "    <tr>\n",
       "      <th>2</th>\n",
       "      <td>Who</td>\n",
       "      <td>Here 'tis</td>\n",
       "      <td>Whoa, whoa, whoa (whoa, whoa, whoa),  \\nI said...</td>\n",
       "    </tr>\n",
       "    <tr>\n",
       "      <th>3</th>\n",
       "      <td>Cat Stevens</td>\n",
       "      <td>Baby Get Your Head Screwed On</td>\n",
       "      <td>Well if you're feelin' low, take it slow  \\n  ...</td>\n",
       "    </tr>\n",
       "    <tr>\n",
       "      <th>4</th>\n",
       "      <td>Reba Mcentire</td>\n",
       "      <td>If You Only Knew</td>\n",
       "      <td>So here you are again  \\nStanding at my door  ...</td>\n",
       "    </tr>\n",
       "  </tbody>\n",
       "</table>\n",
       "</div>"
      ],
      "text/plain": [
       "          artist                           song  \\\n",
       "0         Utopia                 Too Much Water   \n",
       "1     John Waite               White Lightening   \n",
       "2            Who                      Here 'tis   \n",
       "3    Cat Stevens  Baby Get Your Head Screwed On   \n",
       "4  Reba Mcentire               If You Only Knew   \n",
       "\n",
       "                                                text  \n",
       "0  Too much, it's too much, too much  \\nGot too m...  \n",
       "1  When I was young  \\nThey took me to the dentis...  \n",
       "2  Whoa, whoa, whoa (whoa, whoa, whoa),  \\nI said...  \n",
       "3  Well if you're feelin' low, take it slow  \\n  ...  \n",
       "4  So here you are again  \\nStanding at my door  ...  "
      ]
     },
     "execution_count": 7,
     "metadata": {},
     "output_type": "execute_result"
    }
   ],
   "source": [
    "df.head()"
   ]
  },
  {
   "cell_type": "code",
   "execution_count": 8,
   "id": "2cc87800",
   "metadata": {},
   "outputs": [],
   "source": [
    "df['text'] = df['text'].str.lower().replace(r'[^a-zA-Z0-9]', ' ', regex=True)"
   ]
  },
  {
   "cell_type": "code",
   "execution_count": 9,
   "id": "e3affe49",
   "metadata": {},
   "outputs": [
    {
     "data": {
      "text/plain": [
       "'too much  it s too much  too much   got too much water under the bridge   got too much  too much  got too much   got too much water under the bridge   i got to think of something  think of something   i got to think of something   we got to hang together  we got to hang together   we got to hang together  or hang separately   maybe we got time to burn   i got a yen to hear myself talk   but i don t want to make that kind of history   put your hand on the rock   and maybe you ve got nothing left to learn   you put me in a state   but do you want to make that kind of history   put your hand on the rock   and let it all run out   you know why we got to hang together   number one ain t always number one   instant karma s always coming back   and i don t want to make that kind of history   put your hand on the rock   tell ya mamma nature s on the run   bad karma s running in the back   but do we want to make that kind of history   put your hand on the rock   and let it all run out   you know why we got to get together   we got no more time to burn   we got to crawl before we can walk   so if you want to make a new kind of history   put your hand on the rock   and i got a few things i d like to learn   i get tired of hearing myself squawk   and i want to make a new kind of history   put your hand on the rock   and let it all run out   you know why we got to hang together  '"
      ]
     },
     "execution_count": 9,
     "metadata": {},
     "output_type": "execute_result"
    }
   ],
   "source": [
    "df['text'][0]"
   ]
  },
  {
   "cell_type": "code",
   "execution_count": 10,
   "id": "2c62a101",
   "metadata": {},
   "outputs": [],
   "source": [
    "import nltk\n",
    "from nltk.stem.porter import PorterStemmer\n",
    "\n",
    "# Initialize the Porter Stemmer\n",
    "ps = PorterStemmer()\n",
    "\n",
    "def tokenization_and_stemming(txt):\n",
    "    # Tokenize the text\n",
    "    tokens = nltk.word_tokenize(txt)\n",
    "    \n",
    "    # Initialize an empty list for storing stemmed words\n",
    "    stemming = []\n",
    "\n",
    "    # Apply stemming to each word in the tokenized text\n",
    "    for w in tokens:\n",
    "        stemming.append(ps.stem(w))\n",
    "    \n",
    "    # Join the stemmed words to form the processed text\n",
    "    return \" \".join(stemming)"
   ]
  },
  {
   "cell_type": "code",
   "execution_count": 11,
   "id": "dafb27ed",
   "metadata": {},
   "outputs": [
    {
     "name": "stdout",
     "output_type": "stream",
     "text": [
      "                 artist                           song  \\\n",
      "0                Utopia                 Too Much Water   \n",
      "1            John Waite               White Lightening   \n",
      "2                   Who                      Here 'tis   \n",
      "3           Cat Stevens  Baby Get Your Head Screwed On   \n",
      "4         Reba Mcentire               If You Only Knew   \n",
      "...                 ...                            ...   \n",
      "4995  The White Stripes       In The Cold, Cold, Night   \n",
      "4996          Zebrahead                           Blur   \n",
      "4997            Rihanna                          Vogue   \n",
      "4998            Misfits         Dr. Phibes Rises Again   \n",
      "4999      Glen Campbell                    Without Her   \n",
      "\n",
      "                                                   text  \n",
      "0     too much it s too much too much got too much w...  \n",
      "1     when i wa young they took me to the dentist i ...  \n",
      "2     whoa whoa whoa whoa whoa whoa i said whoa whoa...  \n",
      "3     well if you re feelin low take it slow babi ge...  \n",
      "4     so here you are again stand at my door you kno...  \n",
      "...                                                 ...  \n",
      "4995  i saw you stand in the corner on the edg of a ...  \n",
      "4996  did you ever get the feel that you were all al...  \n",
      "4997  what at you look at strike a pose strike a pos...  \n",
      "4998  year ago they took from me the onli thing i ev...  \n",
      "4999  i spend the night in a chair thinkin she ll be...  \n",
      "\n",
      "[5000 rows x 3 columns]\n"
     ]
    }
   ],
   "source": [
    "# Apply the tokenization_and_stemming function to the 'text' column\n",
    "df['text'] = df['text'].apply(lambda x: tokenization_and_stemming(x))\n",
    "\n",
    "# Display the DataFrame with processed 'text' column\n",
    "print(df)"
   ]
  },
  {
   "cell_type": "code",
   "execution_count": 12,
   "id": "5119d6e1",
   "metadata": {},
   "outputs": [],
   "source": [
    "import nltk\n",
    "from nltk.stem.porter import PorterStemmer\n",
    "\n",
    "# Initialize the Porter Stemmer\n",
    "ps = PorterStemmer()\n",
    "\n",
    "def tokenization(txt):\n",
    "    # Tokenize the text\n",
    "    tokens = nltk.word_tokenize(txt)\n",
    "    \n",
    "    # Apply stemming using list comprehension\n",
    "    stemming = [ps.stem(w) for w in tokens]\n",
    "    \n",
    "    # Join the stemmed words to form the processed text\n",
    "    return \" \".join(stemming)"
   ]
  },
  {
   "cell_type": "code",
   "execution_count": 13,
   "id": "d5204e3c",
   "metadata": {},
   "outputs": [],
   "source": [
    "from sklearn.feature_extraction.text import TfidfVectorizer\n",
    "from sklearn.metrics.pairwise import cosine_similarity"
   ]
  },
  {
   "cell_type": "code",
   "execution_count": 14,
   "id": "3b56bdca",
   "metadata": {},
   "outputs": [],
   "source": [
    "tfid = TfidfVectorizer(stop_words = 'english')\n",
    "matrix = tfid.fit_transform(df['text'])"
   ]
  },
  {
   "cell_type": "code",
   "execution_count": 15,
   "id": "6be6c79b",
   "metadata": {},
   "outputs": [
    {
     "data": {
      "text/plain": [
       "(5000, 17621)"
      ]
     },
     "execution_count": 15,
     "metadata": {},
     "output_type": "execute_result"
    }
   ],
   "source": [
    "matrix.shape"
   ]
  },
  {
   "cell_type": "code",
   "execution_count": null,
   "id": "f74b5f2b",
   "metadata": {},
   "outputs": [],
   "source": []
  },
  {
   "cell_type": "code",
   "execution_count": 20,
   "id": "3aec7a5e",
   "metadata": {},
   "outputs": [],
   "source": [
    "from sklearn.metrics.pairwise import cosine_similarity\n",
    "\n",
    "# Assuming 'matrix' is a valid matrix or array containing vectorized representations\n",
    "\n",
    "similarity = cosine_similarity(matrix)"
   ]
  },
  {
   "cell_type": "code",
   "execution_count": 21,
   "id": "fd1f3619",
   "metadata": {},
   "outputs": [
    {
     "data": {
      "text/plain": [
       "array([1.        , 0.05371719, 0.00518807, ..., 0.03589877, 0.01751007,\n",
       "       0.00840383])"
      ]
     },
     "execution_count": 21,
     "metadata": {},
     "output_type": "execute_result"
    }
   ],
   "source": [
    "similarity[0]\n"
   ]
  },
  {
   "cell_type": "code",
   "execution_count": 23,
   "id": "c5565842",
   "metadata": {},
   "outputs": [
    {
     "data": {
      "text/plain": [
       "'Too Much Water'"
      ]
     },
     "execution_count": 23,
     "metadata": {},
     "output_type": "execute_result"
    }
   ],
   "source": [
    "df['song'][0]"
   ]
  },
  {
   "cell_type": "code",
   "execution_count": 26,
   "id": "6171acf2",
   "metadata": {},
   "outputs": [
    {
     "data": {
      "text/html": [
       "<div>\n",
       "<style scoped>\n",
       "    .dataframe tbody tr th:only-of-type {\n",
       "        vertical-align: middle;\n",
       "    }\n",
       "\n",
       "    .dataframe tbody tr th {\n",
       "        vertical-align: top;\n",
       "    }\n",
       "\n",
       "    .dataframe thead th {\n",
       "        text-align: right;\n",
       "    }\n",
       "</style>\n",
       "<table border=\"1\" class=\"dataframe\">\n",
       "  <thead>\n",
       "    <tr style=\"text-align: right;\">\n",
       "      <th></th>\n",
       "      <th>artist</th>\n",
       "      <th>song</th>\n",
       "      <th>text</th>\n",
       "    </tr>\n",
       "  </thead>\n",
       "  <tbody>\n",
       "    <tr>\n",
       "      <th>0</th>\n",
       "      <td>Utopia</td>\n",
       "      <td>Too Much Water</td>\n",
       "      <td>too much it s too much too much got too much w...</td>\n",
       "    </tr>\n",
       "  </tbody>\n",
       "</table>\n",
       "</div>"
      ],
      "text/plain": [
       "   artist            song                                               text\n",
       "0  Utopia  Too Much Water  too much it s too much too much got too much w..."
      ]
     },
     "execution_count": 26,
     "metadata": {},
     "output_type": "execute_result"
    }
   ],
   "source": [
    "df[df['song']== 'Too Much Water']"
   ]
  },
  {
   "cell_type": "code",
   "execution_count": 31,
   "id": "07d06e66",
   "metadata": {},
   "outputs": [],
   "source": [
    "distances = sorted(list(enumerate(similarity[0])), reverse = False , key = lambda x :x[1])"
   ]
  },
  {
   "cell_type": "code",
   "execution_count": 47,
   "id": "fde5a55e",
   "metadata": {},
   "outputs": [],
   "source": [
    "def recommendation(song):\n",
    "    song_matches = df[df['song'] == song]\n",
    "    \n",
    "    if not song_matches.empty:\n",
    "        idx = song_matches.index[0]\n",
    "        distances = sorted(list(enumerate(similarity[idx])), reverse=False, key=lambda x: x[1])\n",
    "\n",
    "        songs = []\n",
    "        for i in distances[1:21]:\n",
    "            songs.append(df.iloc[i[0]].song)\n",
    "\n",
    "        return songs\n",
    "    else:\n",
    "        return f\"No matches found for the song: {song}\"\n"
   ]
  },
  {
   "cell_type": "code",
   "execution_count": 49,
   "id": "4eed1ee8",
   "metadata": {},
   "outputs": [
    {
     "data": {
      "text/plain": [
       "['Malfunction',\n",
       " 'Merry Christmas, Darling',\n",
       " 'I Am The Walrus',\n",
       " \"Baby, I'm A Big Star Now\",\n",
       " 'Ships In The Sky',\n",
       " 'When A Child Is Born',\n",
       " \"Bop' Til You Drop\",\n",
       " 'Los Bastardos',\n",
       " 'Je Ne Veux Pas',\n",
       " 'No Respect',\n",
       " 'Walk Right In',\n",
       " 'Pretending To See The Future',\n",
       " 'Two Steppin Mind',\n",
       " 'Ave Maria',\n",
       " 'Steamrock Fever',\n",
       " 'Help Me Make It Through The Night',\n",
       " 'What Is That You Say',\n",
       " 'This Old Dog',\n",
       " \"Ain't Nobody's Business If I Do\",\n",
       " 'Make A Move']"
      ]
     },
     "execution_count": 49,
     "metadata": {},
     "output_type": "execute_result"
    }
   ],
   "source": [
    "recommendation('All For Love')"
   ]
  },
  {
   "cell_type": "code",
   "execution_count": null,
   "id": "4ad60993",
   "metadata": {},
   "outputs": [],
   "source": []
  }
 ],
 "metadata": {
  "kernelspec": {
   "display_name": "Python 3 (ipykernel)",
   "language": "python",
   "name": "python3"
  },
  "language_info": {
   "codemirror_mode": {
    "name": "ipython",
    "version": 3
   },
   "file_extension": ".py",
   "mimetype": "text/x-python",
   "name": "python",
   "nbconvert_exporter": "python",
   "pygments_lexer": "ipython3",
   "version": "3.11.7"
  }
 },
 "nbformat": 4,
 "nbformat_minor": 5
}
